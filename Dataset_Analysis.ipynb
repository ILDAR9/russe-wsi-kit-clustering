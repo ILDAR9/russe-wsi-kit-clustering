{
 "cells": [
  {
   "cell_type": "code",
   "execution_count": 137,
   "metadata": {
    "scrolled": true
   },
   "outputs": [],
   "source": [
    "%matplotlib notebook\n",
    "\n",
    "import pandas as pd\n",
    "pd.set_option('display.max_colwidth', -1)\n",
    "import networkx as nx\n",
    "\n",
    "import itertools as it\n",
    "import numpy as np\n",
    "import os\n",
    "import re\n",
    "import matplotlib.pyplot as plt\n",
    "import sys\n",
    "from importlib import reload\n",
    "sys.path.append('./chinese-whispers-python')\n",
    "sys.path.append('./')\n",
    "import solution\n",
    "from pprint import pprint\n",
    "from pymystem3 import Mystem\n",
    "morph = Mystem()"
   ]
  },
  {
   "cell_type": "code",
   "execution_count": 138,
   "metadata": {},
   "outputs": [],
   "source": [
    "reload(solution)\n",
    "model = None\n",
    "try:\n",
    "    model = sg.model\n",
    "except:\n",
    "    pass\n",
    "sg = solution.SenseGraph(model=model, debug=False)"
   ]
  },
  {
   "cell_type": "code",
   "execution_count": 140,
   "metadata": {},
   "outputs": [
    {
     "data": {
      "text/plain": [
       "['рыболовство_NOUN',\n",
       " 'марикультура_NOUN',\n",
       " 'рыбоводство_NOUN',\n",
       " 'главрыбвод_NOUN',\n",
       " 'водный::биоресурсы_NOUN',\n",
       " 'любительский::рыболовство_NOUN',\n",
       " 'рыбный::ловля_NOUN',\n",
       " 'оленеводство_NOUN',\n",
       " 'агатополь_NOUN',\n",
       " 'соболевание_NOUN']"
      ]
     },
     "execution_count": 140,
     "metadata": {},
     "output_type": "execute_result"
    }
   ],
   "source": [
    "tags=('NOUN', 'VERB', 'ADJ', 'ADV', 'ADV', 'ADJ', 'DET', 'ADJ', 'SCONJ', 'INTJ', 'X', 'NUM', 'PART', 'ADP', 'PRON')\n",
    "res = []\n",
    "for t in tags:\n",
    "    try:\n",
    "        sg.N = 10\n",
    "        res = sg.top_k('рыболовство_' + t)\n",
    "        break\n",
    "    except:\n",
    "        pass\n",
    "res"
   ]
  },
  {
   "cell_type": "markdown",
   "metadata": {},
   "source": [
    "### Train Test dataset overview"
   ]
  },
  {
   "cell_type": "code",
   "execution_count": 134,
   "metadata": {},
   "outputs": [],
   "source": [
    "dataset_fpath = \"data/main/active-dict/train.csv\"\n",
    "train_df = pd.read_csv(dataset_fpath, sep='\\t', dtype={'gold_sense_id': str, 'predict_sense_id': str})\n",
    "\n",
    "dataset_fpath_additional = \"data/additional/active-rutenten/train.csv\"\n",
    "test_df = pd.read_csv(dataset_fpath_additional, sep='\\t', dtype={'gold_sense_id': str, 'predict_sense_id': str})"
   ]
  },
  {
   "cell_type": "code",
   "execution_count": 135,
   "metadata": {},
   "outputs": [
    {
     "name": "stdout",
     "output_type": "stream",
     "text": [
      "Train[85]: ['дар', 'двигатель', 'двойник', 'дворец', 'девятка', 'дедушка', 'дежурная', 'дежурный', 'декабрист', 'декрет', 'дело', 'демобилизация', 'демократ', 'демонстрация', 'дерево', 'держава', 'дерзость', 'десятка', 'десяток', 'деятель', 'диалог', 'диаметр', 'диплом', 'директор', 'диск', 'дичь', 'длина', 'доброволец', 'добыча', 'доказательство', 'доктор', 'долгота', 'доля', 'дом', 'дорога', 'достижение', 'древесина', 'дупло', 'дура', 'дух', 'дым', 'дымка', 'дыхание', 'дьявол', 'евро', 'езда', 'жаворонок', 'жало', 'жертва', 'жестокость', 'жидкость', 'жила', 'жилец', 'жир', 'жребий', 'заведение', 'завещание', 'зависимость', 'заголовок', 'заготовка', 'задание', 'задача', 'задержка', 'зажигалка', 'закон', 'закрытие', 'заложник', 'замена', 'западня', 'запятая', 'застой', 'затея', 'затишье', 'затмение', 'затруднение', 'захоронение', 'звезда', 'звон', 'зеркало', 'зло', 'злоупотребление', 'знак', 'знамя', 'значение', 'зонт']\n",
      "\n",
      "Test[20]: ['альбом', 'анатомия', 'базар', 'балет', 'беда', 'бездна', 'билет', 'блок', 'блоха', 'брак', 'бритва', 'будущее', 'вешалка', 'вилка', 'винт', 'галерея', 'горбуша', 'горшок', 'гроза', 'группа']\n",
      "\n",
      "Test-Train[20]: ['альбом', 'анатомия', 'базар', 'балет', 'беда', 'бездна', 'билет', 'блок', 'блоха', 'брак', 'бритва', 'будущее', 'вешалка', 'вилка', 'винт', 'галерея', 'горбуша', 'горшок', 'гроза', 'группа']\n"
     ]
    }
   ],
   "source": [
    "train_words = train_df['word'].unique()\n",
    "test_words = test_df['word'].unique()\n",
    "diff_test_train = set(test_words) - set(train_words)\n",
    "print('Train[{}]: {}\\n\\nTest[{}]: {}\\n\\nTest-Train[{}]: {}'.\n",
    "      format(len(train_words), sorted(train_words), len(test_words), sorted(test_words), \n",
    "             len(diff_test_train), sorted(diff_test_train)))"
   ]
  },
  {
   "cell_type": "markdown",
   "metadata": {},
   "source": [
    "### Text analysis of train data"
   ]
  },
  {
   "cell_type": "code",
   "execution_count": 136,
   "metadata": {
    "scrolled": true
   },
   "outputs": [
    {
     "name": "stdout",
     "output_type": "stream",
     "text": [
      "\n",
      " ДАР\n"
     ]
    },
    {
     "data": {
      "text/html": [
       "<div class=\"tex2jax_ignore\" style=\"white-space: pre-wrap\">Отвергнуть щедрый <span style=\"padding: 2px; border-radius: 4px; border: 1px solid #bbdefb; background: #e3f2fd\">дар<span style=\"vertical-align: middle; margin-left: 2px; font-size: 0.7em; color: #64b5f6;\">1</span></span></div>"
      ],
      "text/plain": [
       "BoxMarkup('Отвергнуть щедрый дар', [Span(18, 22, '1')])"
      ]
     },
     "metadata": {},
     "output_type": "display_data"
    },
    {
     "data": {
      "text/html": [
       "<div class=\"tex2jax_ignore\" style=\"white-space: pre-wrap\">покупать преданность <span style=\"padding: 2px; border-radius: 4px; border: 1px solid #bbdefb; background: #e3f2fd\">дарами <span style=\"vertical-align: middle; margin-left: 2px; font-size: 0.7em; color: #64b5f6;\">1</span></span>и наградами</div>"
      ],
      "text/plain": [
       "BoxMarkup('покупать преданность дарами и наградами', [Span(21, 28, '1')])"
      ]
     },
     "metadata": {},
     "output_type": "display_data"
    },
    {
     "data": {
      "text/html": [
       "<div class=\"tex2jax_ignore\" style=\"white-space: pre-wrap\">Вот яд – последний <span style=\"padding: 2px; border-radius: 4px; border: 1px solid #bbdefb; background: #e3f2fd\">дар <span style=\"vertical-align: middle; margin-left: 2px; font-size: 0.7em; color: #64b5f6;\">1</span></span>моей Изоры</div>"
      ],
      "text/plain": [
       "BoxMarkup('Вот яд – последний дар моей Изоры', [Span(19, 23, '1')])"
      ]
     },
     "metadata": {},
     "output_type": "display_data"
    },
    {
     "data": {
      "text/html": [
       "<div class=\"tex2jax_ignore\" style=\"white-space: pre-wrap\">Основная функция корильных песен – повеселить участников свадьбы и побудить их к <span style=\"padding: 2px; border-radius: 4px; border: 1px solid #bbdefb; background: #e3f2fd\">дарам<span style=\"vertical-align: middle; margin-left: 2px; font-size: 0.7em; color: #64b5f6;\">1</span></span></div>"
      ],
      "text/plain": [
       "BoxMarkup('Основная функция корильных песен – повеселить участников свадьбы и побудить их к дарам',\n",
       "          [Span(81, 87, '1')])"
      ]
     },
     "metadata": {},
     "output_type": "display_data"
    },
    {
     "data": {
      "text/html": [
       "<div class=\"tex2jax_ignore\" style=\"white-space: pre-wrap\">Но недели две спустя (Алевтина его когда-то об этом просила) он отправляет ей с рабочими изящный шкафчик, счет, конечно, приложен – никаких, извините, <span style=\"padding: 2px; border-radius: 4px; border: 1px solid #bbdefb; background: #e3f2fd\">даров<span style=\"vertical-align: middle; margin-left: 2px; font-size: 0.7em; color: #64b5f6;\">1</span></span></div>"
      ],
      "text/plain": [
       "BoxMarkup('Но недели две спустя (Алевтина его когда-то об этом просила) он отправляет ей с рабочими изящный шкафчик, счет, конечно, приложен – никаких, извините, даров',\n",
       "          [Span(151, 157, '1')])"
      ]
     },
     "metadata": {},
     "output_type": "display_data"
    },
    {
     "data": {
      "text/html": [
       "<div class=\"tex2jax_ignore\" style=\"white-space: pre-wrap\">Мать Ревекки приберегала кусок и на праздник пекла для калеки любимое блюдо, сияя от гордости: <span style=\"padding: 2px; border-radius: 4px; border: 1px solid #bbdefb; background: #e3f2fd\">дар <span style=\"vertical-align: middle; margin-left: 2px; font-size: 0.7em; color: #64b5f6;\">1</span></span>беднейшему – бедных богатство</div>"
      ],
      "text/plain": [
       "BoxMarkup('Мать Ревекки приберегала кусок и на праздник пекла для калеки любимое блюдо, сияя от гордости: дар беднейшему – бедных богатство',\n",
       "          [Span(95, 99, '1')])"
      ]
     },
     "metadata": {},
     "output_type": "display_data"
    },
    {
     "data": {
      "text/html": [
       "<div class=\"tex2jax_ignore\" style=\"white-space: pre-wrap\">Время от времени Лидия Михайловна «доставала» нам – то штаны, то пресловутый шкаф. Мне не хотелось чувствовать себя у нее в долгу, но надо было быть благодарным: все это и вправду было нам нужно, хотя все <span style=\"padding: 2px; border-radius: 4px; border: 1px solid #bbdefb; background: #e3f2fd\">дары <span style=\"vertical-align: middle; margin-left: 2px; font-size: 0.7em; color: #64b5f6;\">1</span></span>мне делались без спросу</div>"
      ],
      "text/plain": [
       "BoxMarkup('Время от времени Лидия Михайловна «доставала» нам – то штаны, то пресловутый шкаф. Мне не хотелось чувствовать себя у нее в долгу, но надо было быть благодарным: все это и вправду было нам нужно, хотя все дары мне делались без спросу',\n",
       "          [Span(205, 210, '1')])"
      ]
     },
     "metadata": {},
     "output_type": "display_data"
    },
    {
     "data": {
      "text/html": [
       "<div class=\"tex2jax_ignore\" style=\"white-space: pre-wrap\">Недавно приезжавший в Оргеев посол РФ в Молдавии Павел Петровский передал школе <span style=\"padding: 2px; border-radius: 4px; border: 1px solid #bbdefb; background: #e3f2fd\">дар <span style=\"vertical-align: middle; margin-left: 2px; font-size: 0.7em; color: #64b5f6;\">1</span></span>правительства Москвы – учебники</div>"
      ],
      "text/plain": [
       "BoxMarkup('Недавно приезжавший в Оргеев посол РФ в Молдавии Павел Петровский передал школе дар правительства Москвы – учебники',\n",
       "          [Span(80, 84, '1')])"
      ]
     },
     "metadata": {},
     "output_type": "display_data"
    },
    {
     "data": {
      "text/html": [
       "<div class=\"tex2jax_ignore\" style=\"white-space: pre-wrap\">Жизнь – бесценный <span style=\"padding: 2px; border-radius: 4px; border: 1px solid #c8e6c9; background: #e8f5e9\">дар<span style=\"vertical-align: middle; margin-left: 2px; font-size: 0.7em; color: #66bb6a;\">2.1</span></span></div>"
      ],
      "text/plain": [
       "BoxMarkup('Жизнь – бесценный дар', [Span(18, 22, '2.1')])"
      ]
     },
     "metadata": {},
     "output_type": "display_data"
    },
    {
     "data": {
      "text/html": [
       "<div class=\"tex2jax_ignore\" style=\"white-space: pre-wrap\">Такая любовь – настоящий <span style=\"padding: 2px; border-radius: 4px; border: 1px solid #c8e6c9; background: #e8f5e9\">дар <span style=\"vertical-align: middle; margin-left: 2px; font-size: 0.7em; color: #66bb6a;\">2.1</span></span>судьбы</div>"
      ],
      "text/plain": [
       "BoxMarkup('Такая любовь – настоящий дар судьбы', [Span(25, 29, '2.1')])"
      ]
     },
     "metadata": {},
     "output_type": "display_data"
    },
    {
     "data": {
      "text/html": [
       "<div class=\"tex2jax_ignore\" style=\"white-space: pre-wrap\">Неисчислимы Божии <span style=\"padding: 2px; border-radius: 4px; border: 1px solid #c8e6c9; background: #e8f5e9\">дары<span style=\"vertical-align: middle; margin-left: 2px; font-size: 0.7em; color: #66bb6a;\">2.1</span></span></div>"
      ],
      "text/plain": [
       "BoxMarkup('Неисчислимы Божии дары', [Span(18, 23, '2.1')])"
      ]
     },
     "metadata": {},
     "output_type": "display_data"
    },
    {
     "data": {
      "text/html": [
       "<div class=\"tex2jax_ignore\" style=\"white-space: pre-wrap\"><span style=\"padding: 2px; border-radius: 4px; border: 1px solid #c8e6c9; background: #e8f5e9\">Дар <span style=\"vertical-align: middle; margin-left: 2px; font-size: 0.7em; color: #66bb6a;\">2.1</span></span>напрасный, <span style=\"padding: 2px; border-radius: 4px; border: 1px solid #c8e6c9; background: #e8f5e9\">дар <span style=\"vertical-align: middle; margin-left: 2px; font-size: 0.7em; color: #66bb6a;\">2.1</span></span>случайный, / Жизнь, зачем ты мне дана?</div>"
      ],
      "text/plain": [
       "BoxMarkup('Дар напрасный, дар случайный, / Жизнь, зачем ты мне дана?',\n",
       "          [Span(0, 4, '2.1'), Span(15, 19, '2.1')])"
      ]
     },
     "metadata": {},
     "output_type": "display_data"
    },
    {
     "data": {
      "text/html": [
       "<div class=\"tex2jax_ignore\" style=\"white-space: pre-wrap\">Господа, – воскликнул я вдруг от всего сердца, – посмотрите кругом на <span style=\"padding: 2px; border-radius: 4px; border: 1px solid #c8e6c9; background: #e8f5e9\">дары <span style=\"vertical-align: middle; margin-left: 2px; font-size: 0.7em; color: #66bb6a;\">2.1</span></span>Божии: небо ясное, воздух чистый, травка нежная</div>"
      ],
      "text/plain": [
       "BoxMarkup('Господа, – воскликнул я вдруг от всего сердца, – посмотрите кругом на дары Божии: небо ясное, воздух чистый, травка нежная',\n",
       "          [Span(70, 75, '2.1')])"
      ]
     },
     "metadata": {},
     "output_type": "display_data"
    },
    {
     "data": {
      "text/html": [
       "<div class=\"tex2jax_ignore\" style=\"white-space: pre-wrap\">Слишком многого она ожидала, слишком многого требовала от жизни, которая скупа на <span style=\"padding: 2px; border-radius: 4px; border: 1px solid #c8e6c9; background: #e8f5e9\">дары<span style=\"vertical-align: middle; margin-left: 2px; font-size: 0.7em; color: #66bb6a;\">2.1</span></span></div>"
      ],
      "text/plain": [
       "BoxMarkup('Слишком многого она ожидала, слишком многого требовала от жизни, которая скупа на дары',\n",
       "          [Span(82, 87, '2.1')])"
      ]
     },
     "metadata": {},
     "output_type": "display_data"
    },
    {
     "data": {
      "text/html": [
       "<div class=\"tex2jax_ignore\" style=\"white-space: pre-wrap\">То, что выглядит как наша жертва Ему, в высшей реальности есть Его <span style=\"padding: 2px; border-radius: 4px; border: 1px solid #c8e6c9; background: #e8f5e9\">дар <span style=\"vertical-align: middle; margin-left: 2px; font-size: 0.7em; color: #66bb6a;\">2.1</span></span>нам</div>"
      ],
      "text/plain": [
       "BoxMarkup('То, что выглядит как наша жертва Ему, в высшей реальности есть Его дар нам',\n",
       "          [Span(67, 71, '2.1')])"
      ]
     },
     "metadata": {},
     "output_type": "display_data"
    },
    {
     "data": {
      "text/html": [
       "<div class=\"tex2jax_ignore\" style=\"white-space: pre-wrap\">Смерть любимых, дорогих людей – это <span style=\"padding: 2px; border-radius: 4px; border: 1px solid #c8e6c9; background: #e8f5e9\">дар,<span style=\"vertical-align: middle; margin-left: 2px; font-size: 0.7em; color: #66bb6a;\">2.1</span></span> который помогает понять то важное, для чего мы здесь</div>"
      ],
      "text/plain": [
       "BoxMarkup('Смерть любимых, дорогих людей – это дар, который помогает понять то важное, для чего мы здесь',\n",
       "          [Span(36, 40, '2.1')])"
      ]
     },
     "metadata": {},
     "output_type": "display_data"
    },
    {
     "data": {
      "text/html": [
       "<div class=\"tex2jax_ignore\" style=\"white-space: pre-wrap\">Пенсия – это просто счастливый <span style=\"padding: 2px; border-radius: 4px; border: 1px solid #c8e6c9; background: #e8f5e9\">дар <span style=\"vertical-align: middle; margin-left: 2px; font-size: 0.7em; color: #66bb6a;\">2.1</span></span>судьбы, – продолжал Сергей Николаевич, нимало не понимая, что это никакой не <span style=\"padding: 2px; border-radius: 4px; border: 1px solid #c8e6c9; background: #e8f5e9\">дар,<span style=\"vertical-align: middle; margin-left: 2px; font-size: 0.7em; color: #66bb6a;\">2.1</span></span> а просто заработанное им расчетливо утаено государством</div>"
      ],
      "text/plain": [
       "BoxMarkup('Пенсия – это просто счастливый дар судьбы, – продолжал Сергей Николаевич, нимало не понимая, что это никакой не дар, а просто заработанное им расчетливо утаено государством',\n",
       "          [Span(31, 35, '2.1'), Span(112, 116, '2.1')])"
      ]
     },
     "metadata": {},
     "output_type": "display_data"
    },
    {
     "data": {
      "text/html": [
       "<div class=\"tex2jax_ignore\" style=\"white-space: pre-wrap\">С каждым годом множилось число тех, кто любил пострелять и попользоваться дичью, <span style=\"padding: 2px; border-radius: 4px; border: 1px solid #c8e6c9; background: #e8f5e9\">дарами <span style=\"vertical-align: middle; margin-left: 2px; font-size: 0.7em; color: #66bb6a;\">2.1</span></span>природы к почти голодному столу</div>"
      ],
      "text/plain": [
       "BoxMarkup('С каждым годом множилось число тех, кто любил пострелять и попользоваться дичью, дарами природы к почти голодному столу',\n",
       "          [Span(81, 88, '2.1')])"
      ]
     },
     "metadata": {},
     "output_type": "display_data"
    },
    {
     "data": {
      "text/html": [
       "<div class=\"tex2jax_ignore\" style=\"white-space: pre-wrap\">Труд тысяч и тысяч мастеров, лучшие <span style=\"padding: 2px; border-radius: 4px; border: 1px solid #c8e6c9; background: #e8f5e9\">дары <span style=\"vertical-align: middle; margin-left: 2px; font-size: 0.7em; color: #66bb6a;\">2.1</span></span>земли, стояли, лежали и висели перед ним</div>"
      ],
      "text/plain": [
       "BoxMarkup('Труд тысяч и тысяч мастеров, лучшие дары земли, стояли, лежали и висели перед ним',\n",
       "          [Span(36, 41, '2.1')])"
      ]
     },
     "metadata": {},
     "output_type": "display_data"
    },
    {
     "data": {
      "text/html": [
       "<div class=\"tex2jax_ignore\" style=\"white-space: pre-wrap\">Так наш завтрак еще в Лагуне? – В этом вся прелесть! – воскликнула Наташа. – Прямо из воды – свежайшие <span style=\"padding: 2px; border-radius: 4px; border: 1px solid #c8e6c9; background: #e8f5e9\">дары <span style=\"vertical-align: middle; margin-left: 2px; font-size: 0.7em; color: #66bb6a;\">2.1</span></span>моря!</div>"
      ],
      "text/plain": [
       "BoxMarkup('Так наш завтрак еще в Лагуне? – В этом вся прелесть! – воскликнула Наташа. – Прямо из воды – свежайшие дары моря!',\n",
       "          [Span(103, 108, '2.1')])"
      ]
     },
     "metadata": {},
     "output_type": "display_data"
    },
    {
     "data": {
      "text/html": [
       "<div class=\"tex2jax_ignore\" style=\"white-space: pre-wrap\">В те времена охота, рыболовство, собирание <span style=\"padding: 2px; border-radius: 4px; border: 1px solid #c8e6c9; background: #e8f5e9\">даров <span style=\"vertical-align: middle; margin-left: 2px; font-size: 0.7em; color: #66bb6a;\">2.1</span></span>леса, в том числе и грибов, было не забавой […], но бытом, повседневностью, жизнью</div>"
      ],
      "text/plain": [
       "BoxMarkup('В те времена охота, рыболовство, собирание даров леса, в том числе и грибов, было не забавой […], но бытом, повседневностью, жизнью',\n",
       "          [Span(43, 49, '2.1')])"
      ]
     },
     "metadata": {},
     "output_type": "display_data"
    },
    {
     "data": {
      "text/html": [
       "<div class=\"tex2jax_ignore\" style=\"white-space: pre-wrap\"><span style=\"padding: 2px; border-radius: 4px; border: 1px solid #c8e6c9; background: #e8f5e9\">Дары <span style=\"vertical-align: middle; margin-left: 2px; font-size: 0.7em; color: #66bb6a;\">2.1</span></span>тайги выменивались на продукты морского промысла</div>"
      ],
      "text/plain": [
       "BoxMarkup('Дары тайги выменивались на продукты морского промысла',\n",
       "          [Span(0, 5, '2.1')])"
      ]
     },
     "metadata": {},
     "output_type": "display_data"
    },
    {
     "data": {
      "text/html": [
       "<div class=\"tex2jax_ignore\" style=\"white-space: pre-wrap\">Один за другим беспрерывно шлепаются в лодку золотистые караси. […] Прохор привык к щедрым <span style=\"padding: 2px; border-radius: 4px; border: 1px solid #c8e6c9; background: #e8f5e9\">дарам <span style=\"vertical-align: middle; margin-left: 2px; font-size: 0.7em; color: #66bb6a;\">2.1</span></span>Угрюм-реки и не удивляется</div>"
      ],
      "text/plain": [
       "BoxMarkup('Один за другим беспрерывно шлепаются в лодку золотистые караси. […] Прохор привык к щедрым дарам Угрюм-реки и не удивляется',\n",
       "          [Span(91, 97, '2.1')])"
      ]
     },
     "metadata": {},
     "output_type": "display_data"
    },
    {
     "data": {
      "text/html": [
       "<div class=\"tex2jax_ignore\" style=\"white-space: pre-wrap\"><span style=\"padding: 2px; border-radius: 4px; border: 1px solid #ffcdd2; background: #ffebee\">Дар <span style=\"vertical-align: middle; margin-left: 2px; font-size: 0.7em; color: #e57373;\">2.3</span></span>оратора</div>"
      ],
      "text/plain": [
       "BoxMarkup('Дар оратора', [Span(0, 4, '2.3')])"
      ]
     },
     "metadata": {},
     "output_type": "display_data"
    },
    {
     "data": {
      "text/html": [
       "<div class=\"tex2jax_ignore\" style=\"white-space: pre-wrap\">У нее с детства был <span style=\"padding: 2px; border-radius: 4px; border: 1px solid #ffcdd2; background: #ffebee\">дар <span style=\"vertical-align: middle; margin-left: 2px; font-size: 0.7em; color: #e57373;\">2.3</span></span>передразнивать знакомых</div>"
      ],
      "text/plain": [
       "BoxMarkup('У нее с детства был дар передразнивать знакомых',\n",
       "          [Span(20, 24, '2.3')])"
      ]
     },
     "metadata": {},
     "output_type": "display_data"
    },
    {
     "data": {
      "text/html": [
       "<div class=\"tex2jax_ignore\" style=\"white-space: pre-wrap\">Писатель не творит ее [литературу], а как бы исполняет, улавливая сигналы. Чувствительность к такого рода сигналам и есть Божий <span style=\"padding: 2px; border-radius: 4px; border: 1px solid #ffcdd2; background: #ffebee\">дар<span style=\"vertical-align: middle; margin-left: 2px; font-size: 0.7em; color: #e57373;\">2.3</span></span></div>"
      ],
      "text/plain": [
       "BoxMarkup('Писатель не творит ее [литературу], а как бы исполняет, улавливая сигналы. Чувствительность к такого рода сигналам и есть Божий дар',\n",
       "          [Span(128, 132, '2.3')])"
      ]
     },
     "metadata": {},
     "output_type": "display_data"
    },
    {
     "data": {
      "text/html": [
       "<div class=\"tex2jax_ignore\" style=\"white-space: pre-wrap\">Потому-то он и оказался не сломленным до конца своих дней, что обладал <span style=\"padding: 2px; border-radius: 4px; border: 1px solid #ffcdd2; background: #ffebee\">даром <span style=\"vertical-align: middle; margin-left: 2px; font-size: 0.7em; color: #e57373;\">2.3</span></span>хороших крестьян и больших художников – извлекать удовольствие из самой работы, а не ждать ее часто обманчивых плодов</div>"
      ],
      "text/plain": [
       "BoxMarkup('Потому-то он и оказался не сломленным до конца своих дней, что обладал даром хороших крестьян и больших художников – извлекать удовольствие из самой работы, а не ждать ее часто обманчивых плодов',\n",
       "          [Span(71, 77, '2.3')])"
      ]
     },
     "metadata": {},
     "output_type": "display_data"
    },
    {
     "data": {
      "text/html": [
       "<div class=\"tex2jax_ignore\" style=\"white-space: pre-wrap\">Так, начиная с этого дня, открылся у Павла Алексеевича этот странный, но полезный <span style=\"padding: 2px; border-radius: 4px; border: 1px solid #ffcdd2; background: #ffebee\">дар.<span style=\"vertical-align: middle; margin-left: 2px; font-size: 0.7em; color: #e57373;\">2.3</span></span> Он называл его про себя «внутривидением»</div>"
      ],
      "text/plain": [
       "BoxMarkup('Так, начиная с этого дня, открылся у Павла Алексеевича этот странный, но полезный дар. Он называл его про себя «внутривидением»',\n",
       "          [Span(82, 86, '2.3')])"
      ]
     },
     "metadata": {},
     "output_type": "display_data"
    },
    {
     "data": {
      "text/html": [
       "<div class=\"tex2jax_ignore\" style=\"white-space: pre-wrap\">Считалось, что Андрей Иванович обладает необыкновенным <span style=\"padding: 2px; border-radius: 4px; border: 1px solid #ffcdd2; background: #ffebee\">даром <span style=\"vertical-align: middle; margin-left: 2px; font-size: 0.7em; color: #e57373;\">2.3</span></span>«выведывать мысли»</div>"
      ],
      "text/plain": [
       "BoxMarkup('Считалось, что Андрей Иванович обладает необыкновенным даром «выведывать мысли»',\n",
       "          [Span(55, 61, '2.3')])"
      ]
     },
     "metadata": {},
     "output_type": "display_data"
    },
    {
     "data": {
      "text/html": [
       "<div class=\"tex2jax_ignore\" style=\"white-space: pre-wrap\">Ученому <span style=\"padding: 2px; border-radius: 4px; border: 1px solid #ffcdd2; background: #ffebee\">дар <span style=\"vertical-align: middle; margin-left: 2px; font-size: 0.7em; color: #e57373;\">2.3</span></span>рассказчика, казалось бы, без нужды, а у него он каким-то образом входил в его научный талант</div>"
      ],
      "text/plain": [
       "BoxMarkup('Ученому дар рассказчика, казалось бы, без нужды, а у него он каким-то образом входил в его научный талант',\n",
       "          [Span(8, 12, '2.3')])"
      ]
     },
     "metadata": {},
     "output_type": "display_data"
    },
    {
     "data": {
      "text/html": [
       "<div class=\"tex2jax_ignore\" style=\"white-space: pre-wrap\">Когда выносили <span style=\"padding: 2px; border-radius: 4px; border: 1px solid #ffcdd2; background: #ffebee\">дары <span style=\"vertical-align: middle; margin-left: 2px; font-size: 0.7em; color: #e57373;\">2.3</span></span>и их подводили к <span style=\"padding: 2px; border-radius: 4px; border: 1px solid #ffcdd2; background: #ffebee\">дарам,<span style=\"vertical-align: middle; margin-left: 2px; font-size: 0.7em; color: #e57373;\">2.3</span></span> тотчас «беснование» прекращалось и больные […] успокаивались</div>"
      ],
      "text/plain": [
       "BoxMarkup('Когда выносили дары и их подводили к дарам, тотчас «беснование» прекращалось и больные […] успокаивались',\n",
       "          [Span(15, 20, '2.3'), Span(37, 43, '2.3')])"
      ]
     },
     "metadata": {},
     "output_type": "display_data"
    },
    {
     "data": {
      "text/html": [
       "<div class=\"tex2jax_ignore\" style=\"white-space: pre-wrap\">В конце была приписка, что священник приехал, исповедовал больную глухою исповедью и приобщил запасными <span style=\"padding: 2px; border-radius: 4px; border: 1px solid #ffcdd2; background: #ffebee\">дарами<span style=\"vertical-align: middle; margin-left: 2px; font-size: 0.7em; color: #e57373;\">2.3</span></span></div>"
      ],
      "text/plain": [
       "BoxMarkup('В конце была приписка, что священник приехал, исповедовал больную глухою исповедью и приобщил запасными дарами',\n",
       "          [Span(104, 111, '2.3')])"
      ]
     },
     "metadata": {},
     "output_type": "display_data"
    },
    {
     "data": {
      "text/html": [
       "<div class=\"tex2jax_ignore\" style=\"white-space: pre-wrap\">Он предупредил меня, что мы заедем в костел за святыми <span style=\"padding: 2px; border-radius: 4px; border: 1px solid #ffcdd2; background: #ffebee\">дарами <span style=\"vertical-align: middle; margin-left: 2px; font-size: 0.7em; color: #e57373;\">2.3</span></span>для причащения умирающего и что с человеком, который везет святые <span style=\"padding: 2px; border-radius: 4px; border: 1px solid #ffcdd2; background: #ffebee\">дары,<span style=\"vertical-align: middle; margin-left: 2px; font-size: 0.7em; color: #e57373;\">2.3</span></span> нельзя разговаривать</div>"
      ],
      "text/plain": [
       "BoxMarkup('Он предупредил меня, что мы заедем в костел за святыми дарами для причащения умирающего и что с человеком, который везет святые дары, нельзя разговаривать',\n",
       "          [Span(55, 62, '2.3'), Span(128, 133, '2.3')])"
      ]
     },
     "metadata": {},
     "output_type": "display_data"
    },
    {
     "data": {
      "text/html": [
       "<div class=\"tex2jax_ignore\" style=\"white-space: pre-wrap\">Как я могу служить обедню? У меня ведь нет ни <span style=\"padding: 2px; border-radius: 4px; border: 1px solid #ffcdd2; background: #ffebee\">даров,<span style=\"vertical-align: middle; margin-left: 2px; font-size: 0.7em; color: #e57373;\">2.3</span></span> ни епитрахили</div>"
      ],
      "text/plain": [
       "BoxMarkup('Как я могу служить обедню? У меня ведь нет ни даров, ни епитрахили',\n",
       "          [Span(46, 52, '2.3')])"
      ]
     },
     "metadata": {},
     "output_type": "display_data"
    },
    {
     "data": {
      "text/html": [
       "<div class=\"tex2jax_ignore\" style=\"white-space: pre-wrap\">Поднимешь глаза – на амвоне стоит священник со святыми <span style=\"padding: 2px; border-radius: 4px; border: 1px solid #ffcdd2; background: #ffebee\">Дарами,<span style=\"vertical-align: middle; margin-left: 2px; font-size: 0.7em; color: #e57373;\">2.3</span></span> и чудится, скорбный свет идет от чаши</div>"
      ],
      "text/plain": [
       "BoxMarkup('Поднимешь глаза – на амвоне стоит священник со святыми Дарами, и чудится, скорбный свет идет от чаши',\n",
       "          [Span(55, 62, '2.3')])"
      ]
     },
     "metadata": {},
     "output_type": "display_data"
    },
    {
     "data": {
      "text/html": [
       "<div class=\"tex2jax_ignore\" style=\"white-space: pre-wrap\">Джованни хотелось, чтобы с ним повторилось чудо, о котором говорил Савонарола, – чтобы огненные лучи, выйдя из чаши со Святыми <span style=\"padding: 2px; border-radius: 4px; border: 1px solid #ffcdd2; background: #ffebee\">Дарами,<span style=\"vertical-align: middle; margin-left: 2px; font-size: 0.7em; color: #e57373;\">2.3</span></span> выжгли в теле его, как раскаленное железо, крестные раны</div>"
      ],
      "text/plain": [
       "BoxMarkup('Джованни хотелось, чтобы с ним повторилось чудо, о котором говорил Савонарола, – чтобы огненные лучи, выйдя из чаши со Святыми Дарами, выжгли в теле его, как раскаленное железо, крестные раны',\n",
       "          [Span(127, 134, '2.3')])"
      ]
     },
     "metadata": {},
     "output_type": "display_data"
    }
   ],
   "source": [
    "import re\n",
    "from ipymarkup import show_box_markup\n",
    "from ipymarkup.palette import palette, BLUE, RED, GREEN, ORANGE\n",
    "def markup_texts(df, word = None):\n",
    "    if word:\n",
    "        df = df[df['word'] == word]\n",
    "    a_word = None\n",
    "    a_sense = None\n",
    "    for word, text, span, golder_sense in df[['word', 'context', 'positions', 'gold_sense_id']].values:\n",
    "        if a_word != word:\n",
    "            sense_id = 0\n",
    "            a_sense = golder_sense\n",
    "            a_word = word\n",
    "            print('\\n', a_word.upper())\n",
    "        if golder_sense != a_sense:\n",
    "            a_sense = golder_sense\n",
    "\n",
    "        try:\n",
    "            spans = tuple(map(int, re.split(r'[,-]', span)))\n",
    "        except:\n",
    "            print(text)\n",
    "            continue\n",
    "        spans = [[spans[i], spans[i+1], a_sense] for i in range(0, len(spans), 2)]\n",
    "        show_box_markup(text, spans)\n",
    "    \n",
    "markup_texts(train_df, word='дар')"
   ]
  },
  {
   "cell_type": "markdown",
   "metadata": {},
   "source": [
    "### Features, select weights"
   ]
  },
  {
   "cell_type": "code",
   "execution_count": 129,
   "metadata": {},
   "outputs": [
    {
     "name": "stdout",
     "output_type": "stream",
     "text": [
      "(2073, 11)\n"
     ]
    },
    {
     "data": {
      "text/html": [
       "<div>\n",
       "<style scoped>\n",
       "    .dataframe tbody tr th:only-of-type {\n",
       "        vertical-align: middle;\n",
       "    }\n",
       "\n",
       "    .dataframe tbody tr th {\n",
       "        vertical-align: top;\n",
       "    }\n",
       "\n",
       "    .dataframe thead th {\n",
       "        text-align: right;\n",
       "    }\n",
       "</style>\n",
       "<table border=\"1\" class=\"dataframe\">\n",
       "  <thead>\n",
       "    <tr style=\"text-align: right;\">\n",
       "      <th></th>\n",
       "      <th>context_id</th>\n",
       "      <th>word</th>\n",
       "      <th>gold_sense_id</th>\n",
       "      <th>predict_sense_id</th>\n",
       "      <th>positions</th>\n",
       "      <th>context</th>\n",
       "      <th>context_wo</th>\n",
       "      <th>contextmorph</th>\n",
       "      <th>wordpos</th>\n",
       "      <th>feature_cos</th>\n",
       "      <th>feature_prob</th>\n",
       "    </tr>\n",
       "  </thead>\n",
       "  <tbody>\n",
       "    <tr>\n",
       "      <td>0</td>\n",
       "      <td>1</td>\n",
       "      <td>дар</td>\n",
       "      <td>1</td>\n",
       "      <td>0</td>\n",
       "      <td>18-22</td>\n",
       "      <td>Отвергнуть щедрый дар</td>\n",
       "      <td>Отвергнуть щедрый</td>\n",
       "      <td>отвергать_VERB щедрый_ADJ</td>\n",
       "      <td>дар_NOUN</td>\n",
       "      <td>[0.7531211, 0.31753352, 0.43184838, 0.34359467, 0.3427364, 0.3976531, 0.42096314, 0.3693876, 0.25753662]</td>\n",
       "      <td>[0.6209667614026362, 0.5586842328199068, 0.579046030753896, 0.5658078843067446, 0.5641240613114294, 0.5739783457251805, 0.5811552387437565, 0.5701889208658522, 0.5489347948982604]</td>\n",
       "    </tr>\n",
       "  </tbody>\n",
       "</table>\n",
       "</div>"
      ],
      "text/plain": [
       "   context_id word gold_sense_id predict_sense_id positions  \\\n",
       "0  1           дар  1             0                18-22      \n",
       "\n",
       "                 context         context_wo               contextmorph  \\\n",
       "0  Отвергнуть щедрый дар  Отвергнуть щедрый  отвергать_VERB щедрый_ADJ   \n",
       "\n",
       "    wordpos  \\\n",
       "0  дар_NOUN   \n",
       "\n",
       "                                                                                                feature_cos  \\\n",
       "0  [0.7531211, 0.31753352, 0.43184838, 0.34359467, 0.3427364, 0.3976531, 0.42096314, 0.3693876, 0.25753662]   \n",
       "\n",
       "                                                                                                                                                                          feature_prob  \n",
       "0  [0.6209667614026362, 0.5586842328199068, 0.579046030753896, 0.5658078843067446, 0.5641240613114294, 0.5739783457251805, 0.5811552387437565, 0.5701889208658522, 0.5489347948982604]  "
      ]
     },
     "execution_count": 129,
     "metadata": {},
     "output_type": "execute_result"
    }
   ],
   "source": [
    "features_fpath = \"data/main/active-dict/train.features.csv\"\n",
    "\n",
    "tf = pd.read_csv(features_fpath, sep='\\t', dtype={'gold_sense_id': str, 'predict_sense_id': str})\n",
    "print(tf.shape)\n",
    "tf.head(1)"
   ]
  },
  {
   "cell_type": "code",
   "execution_count": 130,
   "metadata": {},
   "outputs": [],
   "source": [
    "tf['feature_cos'] = tf['feature_cos'].apply(lambda _ : np.fromstring(_[1:-1], dtype=float, sep=', '))\n",
    "tf['feature_prob'] = tf['feature_prob'].apply(lambda _ : np.fromstring(_[1:-1], dtype=float, sep=', '))"
   ]
  },
  {
   "cell_type": "code",
   "execution_count": null,
   "metadata": {
    "scrolled": true
   },
   "outputs": [],
   "source": [
    "from tqdm import tqdm_notebook as tqdm\n",
    "def evaluate(tf, w, is_per = False):\n",
    "    from sklearn.metrics import adjusted_rand_score\n",
    "    tf['pred_id'] = (tf['feature_cos'].apply(lambda _ : _ * w)).apply(np.argmax)\n",
    "    per_word = tf.groupby('word').aggregate(\n",
    "                lambda f: adjusted_rand_score(\n",
    "                    f['gold_sense_id'], f['pred_id']))\n",
    "    per_word_ari = per_word['pred_id']\n",
    "    if is_per:\n",
    "        for word, ari in zip(per_word.index, per_word_ari):\n",
    "            print('{:<20} {:+.4f}'.format(word, ari))\n",
    "    return np.mean(per_word_ari)\n",
    "\n",
    "w_list = []\n",
    "res_list = []\n",
    "for i in tqdm(range(2000), total=3000):\n",
    "    w = np.random.uniform(0, 1, 9)\n",
    "    res = evaluate(tf, w, False)\n",
    "    w_list.append(w)\n",
    "    res_list.append(res)\n",
    "\n",
    "print('\\n', max(res_list))\n",
    "\"[{}]\".format(','.join(map(str, w_list[np.argmax(res_list)])))"
   ]
  }
 ],
 "metadata": {
  "kernelspec": {
   "display_name": "Python 3",
   "language": "python",
   "name": "python3"
  },
  "language_info": {
   "codemirror_mode": {
    "name": "ipython",
    "version": 3
   },
   "file_extension": ".py",
   "mimetype": "text/x-python",
   "name": "python",
   "nbconvert_exporter": "python",
   "pygments_lexer": "ipython3",
   "version": "3.6.7"
  }
 },
 "nbformat": 4,
 "nbformat_minor": 2
}
